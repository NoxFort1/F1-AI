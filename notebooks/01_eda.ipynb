{
 "cells": [
  {
   "metadata": {},
   "cell_type": "markdown",
   "source": [
    "# F1 Strategy - EDA\n",
    "\n",
    "**Goal:** build a clean race-driver table for strategy modeling.\n",
    "**Scope:** race sessions only.\n",
    "**Inputs:** `sessions_all.csv`, `sessions_result_all.csv`, `starting_grid_all.csv`, `pit_all.csv`, `race_control_all.csv`, `weather_all.csv`\n",
    "**Outputs:** `data/processed/race_driver_master.csv` ready for visualization and feature engineering.\n",
    "\n",
    "**Keys**\n",
    "- Primary key: `session_key` + `driver_number`.\n",
    "- Race-level joins: `session_key`.\n",
    "\n",
    "**Principles**\n",
    "- Minimal code. Few assumptions. No heavy imputations in EDA.\n",
    "- Report missingness. Do not over-fix."
   ],
   "id": "7aa11c9a4915ca54"
  },
  {
   "metadata": {
    "ExecuteTime": {
     "end_time": "2025-09-24T18:52:12.127386Z",
     "start_time": "2025-09-24T18:52:11.763620Z"
    }
   },
   "cell_type": "code",
   "source": [
    "import pandas as pd\n",
    "from pathlib import Path"
   ],
   "id": "a71fb702e236280e",
   "outputs": [],
   "execution_count": 1
  },
  {
   "metadata": {
    "ExecuteTime": {
     "end_time": "2025-09-24T18:52:12.135840Z",
     "start_time": "2025-09-24T18:52:12.133213Z"
    }
   },
   "cell_type": "code",
   "source": "pd.set_option('display.max_columns', None)",
   "id": "db1d86647fa96c3d",
   "outputs": [],
   "execution_count": 2
  },
  {
   "metadata": {
    "ExecuteTime": {
     "end_time": "2025-09-24T18:52:12.149524Z",
     "start_time": "2025-09-24T18:52:12.140927Z"
    }
   },
   "cell_type": "code",
   "source": [
    "DATA = Path('../data/openf1_full')\n",
    "OUT  = Path('../data/processed')\n",
    "OUT.mkdir(parents = True, exist_ok = True)"
   ],
   "id": "87451ab4ada933f5",
   "outputs": [],
   "execution_count": 3
  },
  {
   "metadata": {},
   "cell_type": "markdown",
   "source": [
    "## Data loading\n",
    "\n",
    "We load only the tables that are needed for strategy:\n",
    "- Sessions and results for the base race outcomes.\n",
    "- Starting grid and pits for start positions and service info.\n",
    "- Race control and weather for race-level context."
   ],
   "id": "1a41ad597272be15"
  },
  {
   "metadata": {
    "ExecuteTime": {
     "end_time": "2025-09-24T18:52:12.169131Z",
     "start_time": "2025-09-24T18:52:12.155831Z"
    }
   },
   "cell_type": "code",
   "source": [
    "sessions = pd.read_csv(DATA / 'sessions_all.csv')\n",
    "results  = pd.read_csv(DATA / 'session_result_all.csv')\n",
    "sessions.shape, results.shape"
   ],
   "id": "bf22d095fab6e68a",
   "outputs": [
    {
     "data": {
      "text/plain": [
       "((323, 14), (1836, 11))"
      ]
     },
     "execution_count": 4,
     "metadata": {},
     "output_type": "execute_result"
    }
   ],
   "execution_count": 4
  },
  {
   "metadata": {
    "ExecuteTime": {
     "end_time": "2025-09-24T18:52:12.198254Z",
     "start_time": "2025-09-24T18:52:12.188135Z"
    }
   },
   "cell_type": "code",
   "source": [
    "grid = pd.read_csv(DATA / 'starting_grid_all.csv')\n",
    "pits = pd.read_csv(DATA / 'pit_all.csv')\n",
    "grid.shape, pits.shape"
   ],
   "id": "74a6a59e3adc976d",
   "outputs": [
    {
     "data": {
      "text/plain": [
       "((298, 5), (3033, 6))"
      ]
     },
     "execution_count": 5,
     "metadata": {},
     "output_type": "execute_result"
    }
   ],
   "execution_count": 5
  },
  {
   "metadata": {
    "ExecuteTime": {
     "end_time": "2025-09-24T18:52:12.234929Z",
     "start_time": "2025-09-24T18:52:12.205364Z"
    }
   },
   "cell_type": "code",
   "source": [
    "racectl = pd.read_csv(DATA / 'race_control_all.csv')\n",
    "weather = pd.read_csv(DATA / 'weather_all.csv')\n",
    "racectl.shape, weather.shape"
   ],
   "id": "434111fb7fc5089b",
   "outputs": [
    {
     "data": {
      "text/plain": [
       "((6901, 10), (12179, 10))"
      ]
     },
     "execution_count": 6,
     "metadata": {},
     "output_type": "execute_result"
    }
   ],
   "execution_count": 6
  },
  {
   "metadata": {},
   "cell_type": "markdown",
   "source": [
    "## Restrict to race sessions\n",
    "\n",
    "We keep only **Race** sessions.\n",
    "This ensures that downstream metrics (position, pits, control flags, weather) refer to the same race scope."
   ],
   "id": "fdf53a31b191ae5b"
  },
  {
   "metadata": {
    "ExecuteTime": {
     "end_time": "2025-09-24T18:52:12.251529Z",
     "start_time": "2025-09-24T18:52:12.245269Z"
    }
   },
   "cell_type": "code",
   "source": [
    "is_race = sessions.get('session_type', pd.Series(\"\", index = sessions.index)).eq('Race')\n",
    "if \"session_name\" in sessions.columns:\n",
    "    is_race |= sessions['session_name'].str.contains('Race', case = False, na = False)\n",
    "\n",
    "race_sessions = (\n",
    "    sessions.loc[is_race, ['session_key', 'meeting_key', 'year']]\n",
    "        .drop_duplicates()\n",
    "        .reset_index(drop = True)\n",
    ")\n",
    "race_sessions.shape"
   ],
   "id": "7821b388ed5e89fa",
   "outputs": [
    {
     "data": {
      "text/plain": [
       "(77, 3)"
      ]
     },
     "execution_count": 7,
     "metadata": {},
     "output_type": "execute_result"
    }
   ],
   "execution_count": 7
  },
  {
   "metadata": {
    "ExecuteTime": {
     "end_time": "2025-09-24T18:52:12.275056Z",
     "start_time": "2025-09-24T18:52:12.270227Z"
    }
   },
   "cell_type": "code",
   "source": "race_sessions['year'].value_counts().sort_index()",
   "id": "3ad868b0c222c436",
   "outputs": [
    {
     "data": {
      "text/plain": [
       "year\n",
       "2023    28\n",
       "2024    30\n",
       "2025    19\n",
       "Name: count, dtype: int64"
      ]
     },
     "execution_count": 8,
     "metadata": {},
     "output_type": "execute_result"
    }
   ],
   "execution_count": 8
  },
  {
   "metadata": {},
   "cell_type": "markdown",
   "source": [
    "## Base results\n",
    "\n",
    "Create the base table from `session_result_all` limited to race `session_key`.\n",
    "Keep onlly columns that are meaningful for strategy and are present in the data version we have."
   ],
   "id": "11b0ba63982e8516"
  },
  {
   "metadata": {
    "ExecuteTime": {
     "end_time": "2025-09-24T18:52:12.352910Z",
     "start_time": "2025-09-24T18:52:12.345932Z"
    }
   },
   "cell_type": "code",
   "source": [
    "race_results = results[results['session_key'].isin(race_sessions['session_key'])].copy()\n",
    "race_results = race_results.merge(race_sessions, on = 'session_key', how = 'left')"
   ],
   "id": "b4bfddc3a0222202",
   "outputs": [],
   "execution_count": 9
  },
  {
   "metadata": {
    "ExecuteTime": {
     "end_time": "2025-09-24T18:52:12.434983Z",
     "start_time": "2025-09-24T18:52:12.428354Z"
    }
   },
   "cell_type": "code",
   "source": [
    "if 'meeting_key_x' in race_results.columns and 'meeting_key_y' in race_results.columns:\n",
    "    race_results['meeting_key'] = race_results['meeting_key_x'].fillna(race_results['meeting_key_y'])\n",
    "    race_results = race_results.drop(columns = ['meeting_key_x', 'meeting_key_y'])"
   ],
   "id": "ec6de6ab5d15ff05",
   "outputs": [],
   "execution_count": 10
  },
  {
   "metadata": {
    "ExecuteTime": {
     "end_time": "2025-09-24T18:52:12.465532Z",
     "start_time": "2025-09-24T18:52:12.462384Z"
    }
   },
   "cell_type": "code",
   "source": [
    "if 'number_of_laps' in race_results.columns:\n",
    "    race_results = race_results.rename(columns = {'number_of_laps': 'laps_completed'})"
   ],
   "id": "f92b1544d3ce6a4d",
   "outputs": [],
   "execution_count": 11
  },
  {
   "metadata": {
    "ExecuteTime": {
     "end_time": "2025-09-24T18:52:12.499315Z",
     "start_time": "2025-09-24T18:52:12.489174Z"
    }
   },
   "cell_type": "code",
   "source": [
    "keep = [\n",
    "    'session_key', 'meeting_key', 'year', 'driver_number',\n",
    "    'position', 'points', 'laps_completed',\n",
    "    'dnf', 'dns', 'dsq', 'gap_to_leader', 'duration'\n",
    "]\n",
    "race_results = race_results[[c for c in keep if c in race_results.columns]].reset_index(drop = True)\n",
    "race_results.head(3)"
   ],
   "id": "1a6e2d87414f5fa0",
   "outputs": [
    {
     "data": {
      "text/plain": [
       "   session_key  meeting_key  year  driver_number  position  points  \\\n",
       "0       7953.0         1141  2023              1       1.0    25.0   \n",
       "1       7953.0         1141  2023             11       2.0    18.0   \n",
       "2       7953.0         1141  2023             14       3.0    15.0   \n",
       "\n",
       "   laps_completed    dnf    dns    dsq gap_to_leader  duration  \n",
       "0            57.0  False  False  False             0  5636.736  \n",
       "1            57.0  False  False  False        11.987  5648.723  \n",
       "2            57.0  False  False  False        38.637  5675.373  "
      ],
      "text/html": [
       "<div>\n",
       "<style scoped>\n",
       "    .dataframe tbody tr th:only-of-type {\n",
       "        vertical-align: middle;\n",
       "    }\n",
       "\n",
       "    .dataframe tbody tr th {\n",
       "        vertical-align: top;\n",
       "    }\n",
       "\n",
       "    .dataframe thead th {\n",
       "        text-align: right;\n",
       "    }\n",
       "</style>\n",
       "<table border=\"1\" class=\"dataframe\">\n",
       "  <thead>\n",
       "    <tr style=\"text-align: right;\">\n",
       "      <th></th>\n",
       "      <th>session_key</th>\n",
       "      <th>meeting_key</th>\n",
       "      <th>year</th>\n",
       "      <th>driver_number</th>\n",
       "      <th>position</th>\n",
       "      <th>points</th>\n",
       "      <th>laps_completed</th>\n",
       "      <th>dnf</th>\n",
       "      <th>dns</th>\n",
       "      <th>dsq</th>\n",
       "      <th>gap_to_leader</th>\n",
       "      <th>duration</th>\n",
       "    </tr>\n",
       "  </thead>\n",
       "  <tbody>\n",
       "    <tr>\n",
       "      <th>0</th>\n",
       "      <td>7953.0</td>\n",
       "      <td>1141</td>\n",
       "      <td>2023</td>\n",
       "      <td>1</td>\n",
       "      <td>1.0</td>\n",
       "      <td>25.0</td>\n",
       "      <td>57.0</td>\n",
       "      <td>False</td>\n",
       "      <td>False</td>\n",
       "      <td>False</td>\n",
       "      <td>0</td>\n",
       "      <td>5636.736</td>\n",
       "    </tr>\n",
       "    <tr>\n",
       "      <th>1</th>\n",
       "      <td>7953.0</td>\n",
       "      <td>1141</td>\n",
       "      <td>2023</td>\n",
       "      <td>11</td>\n",
       "      <td>2.0</td>\n",
       "      <td>18.0</td>\n",
       "      <td>57.0</td>\n",
       "      <td>False</td>\n",
       "      <td>False</td>\n",
       "      <td>False</td>\n",
       "      <td>11.987</td>\n",
       "      <td>5648.723</td>\n",
       "    </tr>\n",
       "    <tr>\n",
       "      <th>2</th>\n",
       "      <td>7953.0</td>\n",
       "      <td>1141</td>\n",
       "      <td>2023</td>\n",
       "      <td>14</td>\n",
       "      <td>3.0</td>\n",
       "      <td>15.0</td>\n",
       "      <td>57.0</td>\n",
       "      <td>False</td>\n",
       "      <td>False</td>\n",
       "      <td>False</td>\n",
       "      <td>38.637</td>\n",
       "      <td>5675.373</td>\n",
       "    </tr>\n",
       "  </tbody>\n",
       "</table>\n",
       "</div>"
      ]
     },
     "execution_count": 12,
     "metadata": {},
     "output_type": "execute_result"
    }
   ],
   "execution_count": 12
  },
  {
   "metadata": {},
   "cell_type": "markdown",
   "source": [
    "## Pit-stop features\n",
    "\n",
    "Aggregate per `(session_key, driver_number)`:\n",
    "- `pit_stop_count` - number of pit entries.\n",
    "- `first_pit_lap`  - earliest lap with pit.\n",
    "- `avg_pit_duration` - mean service time.\n",
    "\n",
    "Missing value policy (EDA level):\n",
    "- If as driver has a race result and no pit rows, set `pit_stop_count = 0`.\n",
    "- Leave `first_pit_lap` and `avg_pit_duration` as NaN when `pit_stop_count = 0`."
   ],
   "id": "537780a72a05ce8c"
  },
  {
   "metadata": {
    "ExecuteTime": {
     "end_time": "2025-09-24T18:52:12.545409Z",
     "start_time": "2025-09-24T18:52:12.539046Z"
    }
   },
   "cell_type": "code",
   "source": "pits_slim = pits[['session_key', 'driver_number', 'lap_number', 'pit_duration']]",
   "id": "f7813c3c2fb93299",
   "outputs": [],
   "execution_count": 13
  },
  {
   "metadata": {
    "ExecuteTime": {
     "end_time": "2025-09-24T18:52:12.634883Z",
     "start_time": "2025-09-24T18:52:12.626464Z"
    }
   },
   "cell_type": "code",
   "source": [
    "pits_agg = (\n",
    "    pits_slim.groupby(['session_key', 'driver_number'])\n",
    "            .agg(pit_stop_count   = ('pit_duration', 'size'),\n",
    "                 first_pit_lap    = ('lap_number', 'min'),\n",
    "                 avg_pit_duration = ('pit_duration', 'mean'))\n",
    "            .reset_index()\n",
    ")"
   ],
   "id": "38cc7aea5292c363",
   "outputs": [],
   "execution_count": 14
  },
  {
   "metadata": {
    "ExecuteTime": {
     "end_time": "2025-09-24T18:52:12.684561Z",
     "start_time": "2025-09-24T18:52:12.678277Z"
    }
   },
   "cell_type": "code",
   "source": [
    "pits_agg['pit_stop_count'] = pits_agg['pit_stop_count'].astype('Int64')\n",
    "pits_agg.head()"
   ],
   "id": "5812f95a951e186d",
   "outputs": [
    {
     "data": {
      "text/plain": [
       "   session_key  driver_number  pit_stop_count  first_pit_lap  avg_pit_duration\n",
       "0         9102              1               2           26.0             22.25\n",
       "1         9102              2               2           17.0             23.15\n",
       "2         9102              4               3            1.0             27.50\n",
       "3         9102             10               2           19.0             23.45\n",
       "4         9102             11               2           27.0             21.60"
      ],
      "text/html": [
       "<div>\n",
       "<style scoped>\n",
       "    .dataframe tbody tr th:only-of-type {\n",
       "        vertical-align: middle;\n",
       "    }\n",
       "\n",
       "    .dataframe tbody tr th {\n",
       "        vertical-align: top;\n",
       "    }\n",
       "\n",
       "    .dataframe thead th {\n",
       "        text-align: right;\n",
       "    }\n",
       "</style>\n",
       "<table border=\"1\" class=\"dataframe\">\n",
       "  <thead>\n",
       "    <tr style=\"text-align: right;\">\n",
       "      <th></th>\n",
       "      <th>session_key</th>\n",
       "      <th>driver_number</th>\n",
       "      <th>pit_stop_count</th>\n",
       "      <th>first_pit_lap</th>\n",
       "      <th>avg_pit_duration</th>\n",
       "    </tr>\n",
       "  </thead>\n",
       "  <tbody>\n",
       "    <tr>\n",
       "      <th>0</th>\n",
       "      <td>9102</td>\n",
       "      <td>1</td>\n",
       "      <td>2</td>\n",
       "      <td>26.0</td>\n",
       "      <td>22.25</td>\n",
       "    </tr>\n",
       "    <tr>\n",
       "      <th>1</th>\n",
       "      <td>9102</td>\n",
       "      <td>2</td>\n",
       "      <td>2</td>\n",
       "      <td>17.0</td>\n",
       "      <td>23.15</td>\n",
       "    </tr>\n",
       "    <tr>\n",
       "      <th>2</th>\n",
       "      <td>9102</td>\n",
       "      <td>4</td>\n",
       "      <td>3</td>\n",
       "      <td>1.0</td>\n",
       "      <td>27.50</td>\n",
       "    </tr>\n",
       "    <tr>\n",
       "      <th>3</th>\n",
       "      <td>9102</td>\n",
       "      <td>10</td>\n",
       "      <td>2</td>\n",
       "      <td>19.0</td>\n",
       "      <td>23.45</td>\n",
       "    </tr>\n",
       "    <tr>\n",
       "      <th>4</th>\n",
       "      <td>9102</td>\n",
       "      <td>11</td>\n",
       "      <td>2</td>\n",
       "      <td>27.0</td>\n",
       "      <td>21.60</td>\n",
       "    </tr>\n",
       "  </tbody>\n",
       "</table>\n",
       "</div>"
      ]
     },
     "execution_count": 15,
     "metadata": {},
     "output_type": "execute_result"
    }
   ],
   "execution_count": 15
  },
  {
   "metadata": {},
   "cell_type": "markdown",
   "source": [
    "## Starting grid\n",
    "\n",
    "Keep a single `grid_position` per `(session_key, driver_number)`.\n",
    "Ensure numeric type for downstream arithmetic."
   ],
   "id": "ee311c8bb174667c"
  },
  {
   "metadata": {
    "ExecuteTime": {
     "end_time": "2025-09-24T18:52:12.744755Z",
     "start_time": "2025-09-24T18:52:12.742042Z"
    }
   },
   "cell_type": "code",
   "source": [
    "grid_slim = (\n",
    "    grid[['session_key', 'driver_number', 'position']]\n",
    ")"
   ],
   "id": "c05310bba69eb0d7",
   "outputs": [],
   "execution_count": 16
  },
  {
   "metadata": {
    "ExecuteTime": {
     "end_time": "2025-09-24T18:52:12.850657Z",
     "start_time": "2025-09-24T18:52:12.839411Z"
    }
   },
   "cell_type": "code",
   "source": [
    "grid_slim = (\n",
    "    grid_slim.sort_values(['session_key', 'driver_number', 'position'])\n",
    "                .groupby(['session_key', 'driver_number'], as_index = False)\n",
    "                .first()\n",
    ")\n",
    "grid_slim['position'] = pd.to_numeric(grid_slim['position'], errors = 'coerce').astype('Int64')\n",
    "grid_slim.head()"
   ],
   "id": "d74152a850ab51fd",
   "outputs": [
    {
     "data": {
      "text/plain": [
       "   session_key  driver_number  position\n",
       "0         9278              1         3\n",
       "1         9278              4        10\n",
       "2         9278             10        17\n",
       "3         9278             11         2\n",
       "4         9278             14         8"
      ],
      "text/html": [
       "<div>\n",
       "<style scoped>\n",
       "    .dataframe tbody tr th:only-of-type {\n",
       "        vertical-align: middle;\n",
       "    }\n",
       "\n",
       "    .dataframe tbody tr th {\n",
       "        vertical-align: top;\n",
       "    }\n",
       "\n",
       "    .dataframe thead th {\n",
       "        text-align: right;\n",
       "    }\n",
       "</style>\n",
       "<table border=\"1\" class=\"dataframe\">\n",
       "  <thead>\n",
       "    <tr style=\"text-align: right;\">\n",
       "      <th></th>\n",
       "      <th>session_key</th>\n",
       "      <th>driver_number</th>\n",
       "      <th>position</th>\n",
       "    </tr>\n",
       "  </thead>\n",
       "  <tbody>\n",
       "    <tr>\n",
       "      <th>0</th>\n",
       "      <td>9278</td>\n",
       "      <td>1</td>\n",
       "      <td>3</td>\n",
       "    </tr>\n",
       "    <tr>\n",
       "      <th>1</th>\n",
       "      <td>9278</td>\n",
       "      <td>4</td>\n",
       "      <td>10</td>\n",
       "    </tr>\n",
       "    <tr>\n",
       "      <th>2</th>\n",
       "      <td>9278</td>\n",
       "      <td>10</td>\n",
       "      <td>17</td>\n",
       "    </tr>\n",
       "    <tr>\n",
       "      <th>3</th>\n",
       "      <td>9278</td>\n",
       "      <td>11</td>\n",
       "      <td>2</td>\n",
       "    </tr>\n",
       "    <tr>\n",
       "      <th>4</th>\n",
       "      <td>9278</td>\n",
       "      <td>14</td>\n",
       "      <td>8</td>\n",
       "    </tr>\n",
       "  </tbody>\n",
       "</table>\n",
       "</div>"
      ]
     },
     "execution_count": 17,
     "metadata": {},
     "output_type": "execute_result"
    }
   ],
   "execution_count": 17
  },
  {
   "metadata": {
    "ExecuteTime": {
     "end_time": "2025-09-24T18:52:12.912304Z",
     "start_time": "2025-09-24T18:52:12.907705Z"
    }
   },
   "cell_type": "code",
   "source": [
    "race_sessions['session_key'] = pd.to_numeric(race_sessions['session_key'], errors = 'coerce')\n",
    "racectl['session_key']       = pd.to_numeric(racectl['session_key'], errors = 'coerce')\n",
    "\n",
    "rc = racectl[racectl['session_key'].isin(race_sessions['session_key'])].copy()"
   ],
   "id": "568de7f8db12fe4c",
   "outputs": [],
   "execution_count": 18
  },
  {
   "metadata": {
    "ExecuteTime": {
     "end_time": "2025-09-24T18:52:13.004782Z",
     "start_time": "2025-09-24T18:52:12.979472Z"
    }
   },
   "cell_type": "code",
   "source": [
    "text_cols = rc.select_dtypes(include = 'object').columns.tolist()\n",
    "if text_cols:\n",
    "    rc['_all_text'] = rc[text_cols].fillna('').astype(str).agg(''.join, axis = 1).str.upper()\n",
    "else:\n",
    "    rc['_all_text'] = ''"
   ],
   "id": "4eacf5ef51d448ec",
   "outputs": [],
   "execution_count": 19
  },
  {
   "metadata": {},
   "cell_type": "markdown",
   "source": [
    "## Race control flags (SC/VSC)\n",
    "\n",
    "Heuristic detection across all text columns:\n",
    "- SC patterns: `SC`, `Safety Car`. `Full Course Yellow`.\n",
    "- VSC patterns: `VSC`, `Virtual Safety Car`.\n",
    "\n",
    "Aggregate to race level:\n",
    "- `had_sc`, `had_vsc`, and `had_sc_or_vsc`."
   ],
   "id": "22d52bbc5b966e5"
  },
  {
   "metadata": {
    "ExecuteTime": {
     "end_time": "2025-09-24T18:52:13.071417Z",
     "start_time": "2025-09-24T18:52:13.037197Z"
    }
   },
   "cell_type": "code",
   "source": [
    "pat_sc  = r\"(?:\\bSC\\b|SAFETY\\s*CAR|SAFETYCAR|SC\\s*DEPLOYED|SAFETY\\s*CAR\\s*DEPLOYED|FULL\\s*COURSE\\s*YELLOW|FCY)\"\n",
    "pat_vsc = r\"(?:\\bVSC\\b|VIRTUAL\\s*SAFETY\\s*CAR|VIRTUALSAFETYCAR|VSC\\s*DEPLOYED|VIRTUAL\\s*SC)\"\n",
    "\n",
    "rc['is_sc']  = rc['_all_text'].str.contains(pat_sc, regex = True, na = False)\n",
    "rc['is_vsc'] = rc['_all_text'].str.contains(pat_vsc, regex = True, na = False)"
   ],
   "id": "eba7f7881d988b7c",
   "outputs": [],
   "execution_count": 20
  },
  {
   "metadata": {
    "ExecuteTime": {
     "end_time": "2025-09-24T18:52:13.091462Z",
     "start_time": "2025-09-24T18:52:13.080371Z"
    }
   },
   "cell_type": "code",
   "source": [
    "sc_flags = (\n",
    "    rc.groupby('session_key', as_index = False)\n",
    "        .agg(had_sc = ('is_sc', 'any'), had_vsc = ('is_vsc', 'any'))\n",
    ")\n",
    "sc_flags['had_sc_or_vsc'] = sc_flags['had_sc'] | sc_flags['had_vsc']\n",
    "sc_flags.head()"
   ],
   "id": "6d4633cf9df5199d",
   "outputs": [
    {
     "data": {
      "text/plain": [
       "   session_key  had_sc  had_vsc  had_sc_or_vsc\n",
       "0         7779    True    False           True\n",
       "1         7787    True     True           True\n",
       "2         7953    True     True           True\n",
       "3         9069    True     True           True\n",
       "4         9070    True    False           True"
      ],
      "text/html": [
       "<div>\n",
       "<style scoped>\n",
       "    .dataframe tbody tr th:only-of-type {\n",
       "        vertical-align: middle;\n",
       "    }\n",
       "\n",
       "    .dataframe tbody tr th {\n",
       "        vertical-align: top;\n",
       "    }\n",
       "\n",
       "    .dataframe thead th {\n",
       "        text-align: right;\n",
       "    }\n",
       "</style>\n",
       "<table border=\"1\" class=\"dataframe\">\n",
       "  <thead>\n",
       "    <tr style=\"text-align: right;\">\n",
       "      <th></th>\n",
       "      <th>session_key</th>\n",
       "      <th>had_sc</th>\n",
       "      <th>had_vsc</th>\n",
       "      <th>had_sc_or_vsc</th>\n",
       "    </tr>\n",
       "  </thead>\n",
       "  <tbody>\n",
       "    <tr>\n",
       "      <th>0</th>\n",
       "      <td>7779</td>\n",
       "      <td>True</td>\n",
       "      <td>False</td>\n",
       "      <td>True</td>\n",
       "    </tr>\n",
       "    <tr>\n",
       "      <th>1</th>\n",
       "      <td>7787</td>\n",
       "      <td>True</td>\n",
       "      <td>True</td>\n",
       "      <td>True</td>\n",
       "    </tr>\n",
       "    <tr>\n",
       "      <th>2</th>\n",
       "      <td>7953</td>\n",
       "      <td>True</td>\n",
       "      <td>True</td>\n",
       "      <td>True</td>\n",
       "    </tr>\n",
       "    <tr>\n",
       "      <th>3</th>\n",
       "      <td>9069</td>\n",
       "      <td>True</td>\n",
       "      <td>True</td>\n",
       "      <td>True</td>\n",
       "    </tr>\n",
       "    <tr>\n",
       "      <th>4</th>\n",
       "      <td>9070</td>\n",
       "      <td>True</td>\n",
       "      <td>False</td>\n",
       "      <td>True</td>\n",
       "    </tr>\n",
       "  </tbody>\n",
       "</table>\n",
       "</div>"
      ]
     },
     "execution_count": 21,
     "metadata": {},
     "output_type": "execute_result"
    }
   ],
   "execution_count": 21
  },
  {
   "metadata": {},
   "cell_type": "markdown",
   "source": [
    "## Weather per race\n",
    "\n",
    "Compute race-level aggregates:\n",
    "- `mean_air_temp`, `mean_track_temp` (means).\n",
    "- `rain_any` (any non-zero rainfall).\n",
    "\n",
    "These are race-leve covariates for later visualization and modeling."
   ],
   "id": "d05838bd155a8348"
  },
  {
   "metadata": {
    "ExecuteTime": {
     "end_time": "2025-09-24T18:52:13.151413Z",
     "start_time": "2025-09-24T18:52:13.142995Z"
    }
   },
   "cell_type": "code",
   "source": [
    "wea = weather[weather['session_key'].isin(race_sessions['session_key'])].copy()\n",
    "wea.shape"
   ],
   "id": "c2e5af03e5a264c2",
   "outputs": [
    {
     "data": {
      "text/plain": [
       "(11176, 10)"
      ]
     },
     "execution_count": 22,
     "metadata": {},
     "output_type": "execute_result"
    }
   ],
   "execution_count": 22
  },
  {
   "metadata": {
    "ExecuteTime": {
     "end_time": "2025-09-24T18:52:13.288721Z",
     "start_time": "2025-09-24T18:52:13.286284Z"
    }
   },
   "cell_type": "code",
   "source": [
    "air   = 'air_temperature'\n",
    "track = 'track_temperature'\n",
    "rain  = 'rainfall'"
   ],
   "id": "ac26a9659ab478b2",
   "outputs": [],
   "execution_count": 23
  },
  {
   "metadata": {
    "ExecuteTime": {
     "end_time": "2025-09-24T18:52:13.369428Z",
     "start_time": "2025-09-24T18:52:13.348703Z"
    }
   },
   "cell_type": "code",
   "source": [
    "for c in [air, track, rain]:\n",
    "    if c:\n",
    "        wea[c] = pd.to_numeric(wea[c], errors = 'coerce')\n",
    "agg = {}\n",
    "if air:   agg[air]     = 'mean'\n",
    "if track: agg[track]   = 'mean'\n",
    "if rain:  agg[rain]    = 'max'\n",
    "\n",
    "weather_agg = wea.groupby('session_key').agg(agg).reset_index()\n",
    "\n",
    "rename_map = {}\n",
    "if air:   rename_map[air]   = 'mean_air_temp'\n",
    "if track: rename_map[track] = 'mean_track_temp'\n",
    "if rain:  rename_map[rain]  = 'rain_any'\n",
    "\n",
    "weather_agg = weather_agg.rename(columns = rename_map)\n",
    "if 'rain_any' in weather_agg:\n",
    "    weather_agg['rain_any'] = weather_agg['rain_any'].fillna(0).gt(0)\n",
    "\n",
    "weather_agg.head()"
   ],
   "id": "9f08d80cf00474b",
   "outputs": [
    {
     "data": {
      "text/plain": [
       "   session_key  mean_air_temp  mean_track_temp  rain_any\n",
       "0         7779      26.091892        31.792568     False\n",
       "1         7787      17.449550        30.139640     False\n",
       "2         7953      27.431677        31.011801     False\n",
       "3         9069      22.201220        36.831707      True\n",
       "4         9070      24.860625        41.210000     False"
      ],
      "text/html": [
       "<div>\n",
       "<style scoped>\n",
       "    .dataframe tbody tr th:only-of-type {\n",
       "        vertical-align: middle;\n",
       "    }\n",
       "\n",
       "    .dataframe tbody tr th {\n",
       "        vertical-align: top;\n",
       "    }\n",
       "\n",
       "    .dataframe thead th {\n",
       "        text-align: right;\n",
       "    }\n",
       "</style>\n",
       "<table border=\"1\" class=\"dataframe\">\n",
       "  <thead>\n",
       "    <tr style=\"text-align: right;\">\n",
       "      <th></th>\n",
       "      <th>session_key</th>\n",
       "      <th>mean_air_temp</th>\n",
       "      <th>mean_track_temp</th>\n",
       "      <th>rain_any</th>\n",
       "    </tr>\n",
       "  </thead>\n",
       "  <tbody>\n",
       "    <tr>\n",
       "      <th>0</th>\n",
       "      <td>7779</td>\n",
       "      <td>26.091892</td>\n",
       "      <td>31.792568</td>\n",
       "      <td>False</td>\n",
       "    </tr>\n",
       "    <tr>\n",
       "      <th>1</th>\n",
       "      <td>7787</td>\n",
       "      <td>17.449550</td>\n",
       "      <td>30.139640</td>\n",
       "      <td>False</td>\n",
       "    </tr>\n",
       "    <tr>\n",
       "      <th>2</th>\n",
       "      <td>7953</td>\n",
       "      <td>27.431677</td>\n",
       "      <td>31.011801</td>\n",
       "      <td>False</td>\n",
       "    </tr>\n",
       "    <tr>\n",
       "      <th>3</th>\n",
       "      <td>9069</td>\n",
       "      <td>22.201220</td>\n",
       "      <td>36.831707</td>\n",
       "      <td>True</td>\n",
       "    </tr>\n",
       "    <tr>\n",
       "      <th>4</th>\n",
       "      <td>9070</td>\n",
       "      <td>24.860625</td>\n",
       "      <td>41.210000</td>\n",
       "      <td>False</td>\n",
       "    </tr>\n",
       "  </tbody>\n",
       "</table>\n",
       "</div>"
      ]
     },
     "execution_count": 24,
     "metadata": {},
     "output_type": "execute_result"
    }
   ],
   "execution_count": 24
  },
  {
   "metadata": {
    "ExecuteTime": {
     "end_time": "2025-09-24T18:52:13.427942Z",
     "start_time": "2025-09-24T18:52:13.421097Z"
    }
   },
   "cell_type": "code",
   "source": [
    "def norm_keys(df):\n",
    "    df = df.copy()\n",
    "    df[\"session_key\"] = pd.to_numeric(df[\"session_key\"], errors = \"coerce\").astype(\"Int64\")\n",
    "    if \"driver_number\" in df.columns:\n",
    "        df[\"driver_number\"] = pd.to_numeric(df[\"driver_number\"], errors = \"coerce\").astype(\"Int64\")\n",
    "    return df\n",
    "\n",
    "race_results = norm_keys(race_results)\n",
    "grid_slim    = norm_keys(grid_slim)\n",
    "pits_agg     = norm_keys(pits_agg)\n",
    "sc_flags     = norm_keys(sc_flags)\n",
    "weather_agg  = norm_keys(weather_agg)\n",
    "results      = norm_keys(results)"
   ],
   "id": "b90ac5b71c71bec6",
   "outputs": [],
   "execution_count": 25
  },
  {
   "metadata": {},
   "cell_type": "markdown",
   "source": [
    "## Build the master table\n",
    "\n",
    "Join order and keys:\n",
    "1. Base `race_results`.\n",
    "2. `grid_slim` on `(session_key, driver_number)`.\n",
    "3. `pits_agg` on `(session_key, driver_number)`.\n",
    "4. `sc_flags` on `session_key`.\n",
    "5. `weather_agg` on `session_key`.\n",
    "\n",
    "Normalization:\n",
    "- Cast `session_key` and `driver_number` to numeric nullable typers.\n",
    "- Drop or rename colliding columns (e.g., `position_x`, `position_y`)."
   ],
   "id": "b9a143c013a1c7b4"
  },
  {
   "metadata": {
    "ExecuteTime": {
     "end_time": "2025-09-24T18:52:13.506186Z",
     "start_time": "2025-09-24T18:52:13.502354Z"
    }
   },
   "cell_type": "code",
   "source": [
    "master = race_results.copy()\n",
    "master.shape"
   ],
   "id": "43425657751400c4",
   "outputs": [
    {
     "data": {
      "text/plain": [
       "(1536, 12)"
      ]
     },
     "execution_count": 26,
     "metadata": {},
     "output_type": "execute_result"
    }
   ],
   "execution_count": 26
  },
  {
   "metadata": {
    "ExecuteTime": {
     "end_time": "2025-09-24T18:52:13.554684Z",
     "start_time": "2025-09-24T18:52:13.544476Z"
    }
   },
   "cell_type": "code",
   "source": [
    "master = master.merge(grid_slim, on = [\"session_key\",\"driver_number\"], how = \"left\")\n",
    "master.shape"
   ],
   "id": "90e4d0ac8ce82e8a",
   "outputs": [
    {
     "data": {
      "text/plain": [
       "(1536, 13)"
      ]
     },
     "execution_count": 27,
     "metadata": {},
     "output_type": "execute_result"
    }
   ],
   "execution_count": 27
  },
  {
   "metadata": {
    "ExecuteTime": {
     "end_time": "2025-09-24T18:52:13.578123Z",
     "start_time": "2025-09-24T18:52:13.571158Z"
    }
   },
   "cell_type": "code",
   "source": [
    "master = master.merge(pits_agg, on = [\"session_key\",\"driver_number\"], how = \"left\")\n",
    "master.shape"
   ],
   "id": "c95e0eb127dd32a2",
   "outputs": [
    {
     "data": {
      "text/plain": [
       "(1536, 16)"
      ]
     },
     "execution_count": 28,
     "metadata": {},
     "output_type": "execute_result"
    }
   ],
   "execution_count": 28
  },
  {
   "metadata": {
    "ExecuteTime": {
     "end_time": "2025-09-24T18:52:13.901901Z",
     "start_time": "2025-09-24T18:52:13.588839Z"
    }
   },
   "cell_type": "code",
   "source": [
    "master = master.merge(sc_flags, on = \"session_key\", how = \"left\")\n",
    "master = master.merge(weather_agg, on = \"session_key\", how = \"left\")\n",
    "master.head(3)"
   ],
   "id": "9bd6a1465c06737d",
   "outputs": [
    {
     "data": {
      "text/plain": [
       "   session_key  meeting_key  year  driver_number  position_x  points  \\\n",
       "0         7953         1141  2023              1         1.0    25.0   \n",
       "1         7953         1141  2023             11         2.0    18.0   \n",
       "2         7953         1141  2023             14         3.0    15.0   \n",
       "\n",
       "   laps_completed    dnf    dns    dsq gap_to_leader  duration  position_y  \\\n",
       "0            57.0  False  False  False             0  5636.736        <NA>   \n",
       "1            57.0  False  False  False        11.987  5648.723        <NA>   \n",
       "2            57.0  False  False  False        38.637  5675.373        <NA>   \n",
       "\n",
       "   pit_stop_count  first_pit_lap  avg_pit_duration  had_sc  had_vsc  \\\n",
       "0            <NA>            NaN               NaN    True     True   \n",
       "1            <NA>            NaN               NaN    True     True   \n",
       "2            <NA>            NaN               NaN    True     True   \n",
       "\n",
       "   had_sc_or_vsc  mean_air_temp  mean_track_temp  rain_any  \n",
       "0           True      27.431677        31.011801     False  \n",
       "1           True      27.431677        31.011801     False  \n",
       "2           True      27.431677        31.011801     False  "
      ],
      "text/html": [
       "<div>\n",
       "<style scoped>\n",
       "    .dataframe tbody tr th:only-of-type {\n",
       "        vertical-align: middle;\n",
       "    }\n",
       "\n",
       "    .dataframe tbody tr th {\n",
       "        vertical-align: top;\n",
       "    }\n",
       "\n",
       "    .dataframe thead th {\n",
       "        text-align: right;\n",
       "    }\n",
       "</style>\n",
       "<table border=\"1\" class=\"dataframe\">\n",
       "  <thead>\n",
       "    <tr style=\"text-align: right;\">\n",
       "      <th></th>\n",
       "      <th>session_key</th>\n",
       "      <th>meeting_key</th>\n",
       "      <th>year</th>\n",
       "      <th>driver_number</th>\n",
       "      <th>position_x</th>\n",
       "      <th>points</th>\n",
       "      <th>laps_completed</th>\n",
       "      <th>dnf</th>\n",
       "      <th>dns</th>\n",
       "      <th>dsq</th>\n",
       "      <th>gap_to_leader</th>\n",
       "      <th>duration</th>\n",
       "      <th>position_y</th>\n",
       "      <th>pit_stop_count</th>\n",
       "      <th>first_pit_lap</th>\n",
       "      <th>avg_pit_duration</th>\n",
       "      <th>had_sc</th>\n",
       "      <th>had_vsc</th>\n",
       "      <th>had_sc_or_vsc</th>\n",
       "      <th>mean_air_temp</th>\n",
       "      <th>mean_track_temp</th>\n",
       "      <th>rain_any</th>\n",
       "    </tr>\n",
       "  </thead>\n",
       "  <tbody>\n",
       "    <tr>\n",
       "      <th>0</th>\n",
       "      <td>7953</td>\n",
       "      <td>1141</td>\n",
       "      <td>2023</td>\n",
       "      <td>1</td>\n",
       "      <td>1.0</td>\n",
       "      <td>25.0</td>\n",
       "      <td>57.0</td>\n",
       "      <td>False</td>\n",
       "      <td>False</td>\n",
       "      <td>False</td>\n",
       "      <td>0</td>\n",
       "      <td>5636.736</td>\n",
       "      <td>&lt;NA&gt;</td>\n",
       "      <td>&lt;NA&gt;</td>\n",
       "      <td>NaN</td>\n",
       "      <td>NaN</td>\n",
       "      <td>True</td>\n",
       "      <td>True</td>\n",
       "      <td>True</td>\n",
       "      <td>27.431677</td>\n",
       "      <td>31.011801</td>\n",
       "      <td>False</td>\n",
       "    </tr>\n",
       "    <tr>\n",
       "      <th>1</th>\n",
       "      <td>7953</td>\n",
       "      <td>1141</td>\n",
       "      <td>2023</td>\n",
       "      <td>11</td>\n",
       "      <td>2.0</td>\n",
       "      <td>18.0</td>\n",
       "      <td>57.0</td>\n",
       "      <td>False</td>\n",
       "      <td>False</td>\n",
       "      <td>False</td>\n",
       "      <td>11.987</td>\n",
       "      <td>5648.723</td>\n",
       "      <td>&lt;NA&gt;</td>\n",
       "      <td>&lt;NA&gt;</td>\n",
       "      <td>NaN</td>\n",
       "      <td>NaN</td>\n",
       "      <td>True</td>\n",
       "      <td>True</td>\n",
       "      <td>True</td>\n",
       "      <td>27.431677</td>\n",
       "      <td>31.011801</td>\n",
       "      <td>False</td>\n",
       "    </tr>\n",
       "    <tr>\n",
       "      <th>2</th>\n",
       "      <td>7953</td>\n",
       "      <td>1141</td>\n",
       "      <td>2023</td>\n",
       "      <td>14</td>\n",
       "      <td>3.0</td>\n",
       "      <td>15.0</td>\n",
       "      <td>57.0</td>\n",
       "      <td>False</td>\n",
       "      <td>False</td>\n",
       "      <td>False</td>\n",
       "      <td>38.637</td>\n",
       "      <td>5675.373</td>\n",
       "      <td>&lt;NA&gt;</td>\n",
       "      <td>&lt;NA&gt;</td>\n",
       "      <td>NaN</td>\n",
       "      <td>NaN</td>\n",
       "      <td>True</td>\n",
       "      <td>True</td>\n",
       "      <td>True</td>\n",
       "      <td>27.431677</td>\n",
       "      <td>31.011801</td>\n",
       "      <td>False</td>\n",
       "    </tr>\n",
       "  </tbody>\n",
       "</table>\n",
       "</div>"
      ]
     },
     "execution_count": 29,
     "metadata": {},
     "output_type": "execute_result"
    }
   ],
   "execution_count": 29
  },
  {
   "metadata": {
    "ExecuteTime": {
     "end_time": "2025-09-24T18:52:13.948343Z",
     "start_time": "2025-09-24T18:52:13.943527Z"
    }
   },
   "cell_type": "code",
   "source": [
    "if \"position_x\" in master.columns:\n",
    "    master = master.rename(columns = {\"position_x\": \"position\"})\n",
    "if \"position_y\" in master.columns:\n",
    "    master = master.drop(columns = [\"position_y\"])"
   ],
   "id": "56c60b3a60f2377b",
   "outputs": [],
   "execution_count": 30
  },
  {
   "metadata": {
    "ExecuteTime": {
     "end_time": "2025-09-24T18:52:14.025026Z",
     "start_time": "2025-09-24T18:52:14.019962Z"
    }
   },
   "cell_type": "code",
   "source": [
    "laps_col = \"laps_completed\" if \"laps_completed\" in master.columns else (\"number_of_laps\" if \"number_of_laps\" in master.columns else None)\n",
    "if laps_col:\n",
    "    raced = master[laps_col].notna()\n",
    "    master.loc[raced & master[\"pit_stop_count\"].isna(), \"pit_stop_count\"] = 0\n",
    "    master[\"pit_stop_count\"] = master[\"pit_stop_count\"].astype(\"Int64\")"
   ],
   "id": "d14b5e7db2fbfa59",
   "outputs": [],
   "execution_count": 31
  },
  {
   "metadata": {},
   "cell_type": "markdown",
   "source": [
    "## Status flags\n",
    "\n",
    "Extract DNS and DSQ from concatenated text in `results`.\n",
    "Optional heuristic for DNF:\n",
    "- `position` is NaN and laps > 0.\n",
    "\n",
    "Keep booleans as nullable types. Do not over-interpret in EDA."
   ],
   "id": "1f72901059fbb4ec"
  },
  {
   "metadata": {
    "ExecuteTime": {
     "end_time": "2025-09-24T18:52:14.083105Z",
     "start_time": "2025-09-24T18:52:14.066295Z"
    }
   },
   "cell_type": "code",
   "source": [
    "res_text = results.select_dtypes(include = \"object\").fillna(\"\").astype(str).agg(\" \".join, axis = 1).str.upper()\n",
    "res_status = results[[\"session_key\",\"driver_number\"]].copy()\n",
    "res_status[\"status_text\"] = res_text\n",
    "\n",
    "pat_dns = r\"\\bDNS\\b|DID NOT START|WITHDRAWN|WITHDREW\"\n",
    "pat_dsq = r\"\\bDSQ\\b|DISQUALIFIED|EXCLUDED\"\n",
    "\n",
    "res_status[\"dns_alt\"] = res_status[\"status_text\"].str.contains(pat_dns, regex = True, na = False)\n",
    "res_status[\"dsq_alt\"] = res_status[\"status_text\"].str.contains(pat_dsq, regex = True, na = False)\n",
    "\n",
    "master = master.merge(res_status[[\"session_key\", \"driver_number\", \"dns_alt\", \"dsq_alt\"]],\n",
    "                      on = [\"session_key\", \"driver_number\"], how = \"left\")\n",
    "\n",
    "master[\"dns\"] = master.get(\"dns\", False) | master[\"dns_alt\"].fillna(False)\n",
    "master[\"dsq\"] = master.get(\"dsq\", False) | master[\"dsq_alt\"].fillna(False)\n",
    "master.drop(columns = [\"dns_alt\", \"dsq_alt\"], inplace = True, errors = \"ignore\")"
   ],
   "id": "d05176cc9abdef2b",
   "outputs": [],
   "execution_count": 32
  },
  {
   "metadata": {
    "ExecuteTime": {
     "end_time": "2025-09-24T18:52:14.110084Z",
     "start_time": "2025-09-24T18:52:14.105435Z"
    }
   },
   "cell_type": "code",
   "source": "master.shape, master[[\"session_key\",\"driver_number\"]].duplicated().sum()",
   "id": "a31f9c667333298b",
   "outputs": [
    {
     "data": {
      "text/plain": [
       "((1536, 21), np.int64(0))"
      ]
     },
     "execution_count": 33,
     "metadata": {},
     "output_type": "execute_result"
    }
   ],
   "execution_count": 33
  },
  {
   "metadata": {
    "ExecuteTime": {
     "end_time": "2025-09-24T18:52:14.154208Z",
     "start_time": "2025-09-24T18:52:14.140023Z"
    }
   },
   "cell_type": "code",
   "source": "master",
   "id": "e635fb7e2122de04",
   "outputs": [
    {
     "data": {
      "text/plain": [
       "      session_key  meeting_key  year  driver_number  position  points  \\\n",
       "0            7953         1141  2023              1       1.0    25.0   \n",
       "1            7953         1141  2023             11       2.0    18.0   \n",
       "2            7953         1141  2023             14       3.0    15.0   \n",
       "3            7953         1141  2023             55       4.0    12.0   \n",
       "4            7953         1141  2023             44       5.0    10.0   \n",
       "...           ...          ...   ...            ...       ...     ...   \n",
       "1531         9912         1268  2025             10      16.0     0.0   \n",
       "1532         9912         1268  2025             43      17.0     0.0   \n",
       "1533         9912         1268  2025             18      18.0     0.0   \n",
       "1534         9912         1268  2025             14       NaN     0.0   \n",
       "1535         9912         1268  2025             27       NaN     0.0   \n",
       "\n",
       "      laps_completed    dnf    dns    dsq gap_to_leader  duration  \\\n",
       "0               57.0  False  False  False             0  5636.736   \n",
       "1               57.0  False  False  False        11.987  5648.723   \n",
       "2               57.0  False  False  False        38.637  5675.373   \n",
       "3               57.0  False  False  False        48.052  5684.788   \n",
       "4               57.0  False  False  False        50.977  5687.713   \n",
       "...              ...    ...    ...    ...           ...       ...   \n",
       "1531            52.0  False  False  False        +1 LAP       NaN   \n",
       "1532            52.0  False  False  False        +1 LAP       NaN   \n",
       "1533            52.0  False  False  False        +1 LAP       NaN   \n",
       "1534            24.0   True  False  False           NaN       NaN   \n",
       "1535             0.0  False   True  False           NaN       NaN   \n",
       "\n",
       "      pit_stop_count  first_pit_lap  avg_pit_duration  had_sc  had_vsc  \\\n",
       "0                  0            NaN               NaN    True     True   \n",
       "1                  0            NaN               NaN    True     True   \n",
       "2                  0            NaN               NaN    True     True   \n",
       "3                  0            NaN               NaN    True     True   \n",
       "4                  0            NaN               NaN    True     True   \n",
       "...              ...            ...               ...     ...      ...   \n",
       "1531               1           49.0              25.0   False    False   \n",
       "1532               1           33.0              24.9   False    False   \n",
       "1533               1           49.0              38.4   False    False   \n",
       "1534               1           20.0              25.1   False    False   \n",
       "1535               0            NaN               NaN   False    False   \n",
       "\n",
       "      had_sc_or_vsc  mean_air_temp  mean_track_temp  rain_any  \n",
       "0              True      27.431677        31.011801     False  \n",
       "1              True      27.431677        31.011801     False  \n",
       "2              True      27.431677        31.011801     False  \n",
       "3              True      27.431677        31.011801     False  \n",
       "4              True      27.431677        31.011801     False  \n",
       "...             ...            ...              ...       ...  \n",
       "1531          False      26.761111        43.288194     False  \n",
       "1532          False      26.761111        43.288194     False  \n",
       "1533          False      26.761111        43.288194     False  \n",
       "1534          False      26.761111        43.288194     False  \n",
       "1535          False      26.761111        43.288194     False  \n",
       "\n",
       "[1536 rows x 21 columns]"
      ],
      "text/html": [
       "<div>\n",
       "<style scoped>\n",
       "    .dataframe tbody tr th:only-of-type {\n",
       "        vertical-align: middle;\n",
       "    }\n",
       "\n",
       "    .dataframe tbody tr th {\n",
       "        vertical-align: top;\n",
       "    }\n",
       "\n",
       "    .dataframe thead th {\n",
       "        text-align: right;\n",
       "    }\n",
       "</style>\n",
       "<table border=\"1\" class=\"dataframe\">\n",
       "  <thead>\n",
       "    <tr style=\"text-align: right;\">\n",
       "      <th></th>\n",
       "      <th>session_key</th>\n",
       "      <th>meeting_key</th>\n",
       "      <th>year</th>\n",
       "      <th>driver_number</th>\n",
       "      <th>position</th>\n",
       "      <th>points</th>\n",
       "      <th>laps_completed</th>\n",
       "      <th>dnf</th>\n",
       "      <th>dns</th>\n",
       "      <th>dsq</th>\n",
       "      <th>gap_to_leader</th>\n",
       "      <th>duration</th>\n",
       "      <th>pit_stop_count</th>\n",
       "      <th>first_pit_lap</th>\n",
       "      <th>avg_pit_duration</th>\n",
       "      <th>had_sc</th>\n",
       "      <th>had_vsc</th>\n",
       "      <th>had_sc_or_vsc</th>\n",
       "      <th>mean_air_temp</th>\n",
       "      <th>mean_track_temp</th>\n",
       "      <th>rain_any</th>\n",
       "    </tr>\n",
       "  </thead>\n",
       "  <tbody>\n",
       "    <tr>\n",
       "      <th>0</th>\n",
       "      <td>7953</td>\n",
       "      <td>1141</td>\n",
       "      <td>2023</td>\n",
       "      <td>1</td>\n",
       "      <td>1.0</td>\n",
       "      <td>25.0</td>\n",
       "      <td>57.0</td>\n",
       "      <td>False</td>\n",
       "      <td>False</td>\n",
       "      <td>False</td>\n",
       "      <td>0</td>\n",
       "      <td>5636.736</td>\n",
       "      <td>0</td>\n",
       "      <td>NaN</td>\n",
       "      <td>NaN</td>\n",
       "      <td>True</td>\n",
       "      <td>True</td>\n",
       "      <td>True</td>\n",
       "      <td>27.431677</td>\n",
       "      <td>31.011801</td>\n",
       "      <td>False</td>\n",
       "    </tr>\n",
       "    <tr>\n",
       "      <th>1</th>\n",
       "      <td>7953</td>\n",
       "      <td>1141</td>\n",
       "      <td>2023</td>\n",
       "      <td>11</td>\n",
       "      <td>2.0</td>\n",
       "      <td>18.0</td>\n",
       "      <td>57.0</td>\n",
       "      <td>False</td>\n",
       "      <td>False</td>\n",
       "      <td>False</td>\n",
       "      <td>11.987</td>\n",
       "      <td>5648.723</td>\n",
       "      <td>0</td>\n",
       "      <td>NaN</td>\n",
       "      <td>NaN</td>\n",
       "      <td>True</td>\n",
       "      <td>True</td>\n",
       "      <td>True</td>\n",
       "      <td>27.431677</td>\n",
       "      <td>31.011801</td>\n",
       "      <td>False</td>\n",
       "    </tr>\n",
       "    <tr>\n",
       "      <th>2</th>\n",
       "      <td>7953</td>\n",
       "      <td>1141</td>\n",
       "      <td>2023</td>\n",
       "      <td>14</td>\n",
       "      <td>3.0</td>\n",
       "      <td>15.0</td>\n",
       "      <td>57.0</td>\n",
       "      <td>False</td>\n",
       "      <td>False</td>\n",
       "      <td>False</td>\n",
       "      <td>38.637</td>\n",
       "      <td>5675.373</td>\n",
       "      <td>0</td>\n",
       "      <td>NaN</td>\n",
       "      <td>NaN</td>\n",
       "      <td>True</td>\n",
       "      <td>True</td>\n",
       "      <td>True</td>\n",
       "      <td>27.431677</td>\n",
       "      <td>31.011801</td>\n",
       "      <td>False</td>\n",
       "    </tr>\n",
       "    <tr>\n",
       "      <th>3</th>\n",
       "      <td>7953</td>\n",
       "      <td>1141</td>\n",
       "      <td>2023</td>\n",
       "      <td>55</td>\n",
       "      <td>4.0</td>\n",
       "      <td>12.0</td>\n",
       "      <td>57.0</td>\n",
       "      <td>False</td>\n",
       "      <td>False</td>\n",
       "      <td>False</td>\n",
       "      <td>48.052</td>\n",
       "      <td>5684.788</td>\n",
       "      <td>0</td>\n",
       "      <td>NaN</td>\n",
       "      <td>NaN</td>\n",
       "      <td>True</td>\n",
       "      <td>True</td>\n",
       "      <td>True</td>\n",
       "      <td>27.431677</td>\n",
       "      <td>31.011801</td>\n",
       "      <td>False</td>\n",
       "    </tr>\n",
       "    <tr>\n",
       "      <th>4</th>\n",
       "      <td>7953</td>\n",
       "      <td>1141</td>\n",
       "      <td>2023</td>\n",
       "      <td>44</td>\n",
       "      <td>5.0</td>\n",
       "      <td>10.0</td>\n",
       "      <td>57.0</td>\n",
       "      <td>False</td>\n",
       "      <td>False</td>\n",
       "      <td>False</td>\n",
       "      <td>50.977</td>\n",
       "      <td>5687.713</td>\n",
       "      <td>0</td>\n",
       "      <td>NaN</td>\n",
       "      <td>NaN</td>\n",
       "      <td>True</td>\n",
       "      <td>True</td>\n",
       "      <td>True</td>\n",
       "      <td>27.431677</td>\n",
       "      <td>31.011801</td>\n",
       "      <td>False</td>\n",
       "    </tr>\n",
       "    <tr>\n",
       "      <th>...</th>\n",
       "      <td>...</td>\n",
       "      <td>...</td>\n",
       "      <td>...</td>\n",
       "      <td>...</td>\n",
       "      <td>...</td>\n",
       "      <td>...</td>\n",
       "      <td>...</td>\n",
       "      <td>...</td>\n",
       "      <td>...</td>\n",
       "      <td>...</td>\n",
       "      <td>...</td>\n",
       "      <td>...</td>\n",
       "      <td>...</td>\n",
       "      <td>...</td>\n",
       "      <td>...</td>\n",
       "      <td>...</td>\n",
       "      <td>...</td>\n",
       "      <td>...</td>\n",
       "      <td>...</td>\n",
       "      <td>...</td>\n",
       "      <td>...</td>\n",
       "    </tr>\n",
       "    <tr>\n",
       "      <th>1531</th>\n",
       "      <td>9912</td>\n",
       "      <td>1268</td>\n",
       "      <td>2025</td>\n",
       "      <td>10</td>\n",
       "      <td>16.0</td>\n",
       "      <td>0.0</td>\n",
       "      <td>52.0</td>\n",
       "      <td>False</td>\n",
       "      <td>False</td>\n",
       "      <td>False</td>\n",
       "      <td>+1 LAP</td>\n",
       "      <td>NaN</td>\n",
       "      <td>1</td>\n",
       "      <td>49.0</td>\n",
       "      <td>25.0</td>\n",
       "      <td>False</td>\n",
       "      <td>False</td>\n",
       "      <td>False</td>\n",
       "      <td>26.761111</td>\n",
       "      <td>43.288194</td>\n",
       "      <td>False</td>\n",
       "    </tr>\n",
       "    <tr>\n",
       "      <th>1532</th>\n",
       "      <td>9912</td>\n",
       "      <td>1268</td>\n",
       "      <td>2025</td>\n",
       "      <td>43</td>\n",
       "      <td>17.0</td>\n",
       "      <td>0.0</td>\n",
       "      <td>52.0</td>\n",
       "      <td>False</td>\n",
       "      <td>False</td>\n",
       "      <td>False</td>\n",
       "      <td>+1 LAP</td>\n",
       "      <td>NaN</td>\n",
       "      <td>1</td>\n",
       "      <td>33.0</td>\n",
       "      <td>24.9</td>\n",
       "      <td>False</td>\n",
       "      <td>False</td>\n",
       "      <td>False</td>\n",
       "      <td>26.761111</td>\n",
       "      <td>43.288194</td>\n",
       "      <td>False</td>\n",
       "    </tr>\n",
       "    <tr>\n",
       "      <th>1533</th>\n",
       "      <td>9912</td>\n",
       "      <td>1268</td>\n",
       "      <td>2025</td>\n",
       "      <td>18</td>\n",
       "      <td>18.0</td>\n",
       "      <td>0.0</td>\n",
       "      <td>52.0</td>\n",
       "      <td>False</td>\n",
       "      <td>False</td>\n",
       "      <td>False</td>\n",
       "      <td>+1 LAP</td>\n",
       "      <td>NaN</td>\n",
       "      <td>1</td>\n",
       "      <td>49.0</td>\n",
       "      <td>38.4</td>\n",
       "      <td>False</td>\n",
       "      <td>False</td>\n",
       "      <td>False</td>\n",
       "      <td>26.761111</td>\n",
       "      <td>43.288194</td>\n",
       "      <td>False</td>\n",
       "    </tr>\n",
       "    <tr>\n",
       "      <th>1534</th>\n",
       "      <td>9912</td>\n",
       "      <td>1268</td>\n",
       "      <td>2025</td>\n",
       "      <td>14</td>\n",
       "      <td>NaN</td>\n",
       "      <td>0.0</td>\n",
       "      <td>24.0</td>\n",
       "      <td>True</td>\n",
       "      <td>False</td>\n",
       "      <td>False</td>\n",
       "      <td>NaN</td>\n",
       "      <td>NaN</td>\n",
       "      <td>1</td>\n",
       "      <td>20.0</td>\n",
       "      <td>25.1</td>\n",
       "      <td>False</td>\n",
       "      <td>False</td>\n",
       "      <td>False</td>\n",
       "      <td>26.761111</td>\n",
       "      <td>43.288194</td>\n",
       "      <td>False</td>\n",
       "    </tr>\n",
       "    <tr>\n",
       "      <th>1535</th>\n",
       "      <td>9912</td>\n",
       "      <td>1268</td>\n",
       "      <td>2025</td>\n",
       "      <td>27</td>\n",
       "      <td>NaN</td>\n",
       "      <td>0.0</td>\n",
       "      <td>0.0</td>\n",
       "      <td>False</td>\n",
       "      <td>True</td>\n",
       "      <td>False</td>\n",
       "      <td>NaN</td>\n",
       "      <td>NaN</td>\n",
       "      <td>0</td>\n",
       "      <td>NaN</td>\n",
       "      <td>NaN</td>\n",
       "      <td>False</td>\n",
       "      <td>False</td>\n",
       "      <td>False</td>\n",
       "      <td>26.761111</td>\n",
       "      <td>43.288194</td>\n",
       "      <td>False</td>\n",
       "    </tr>\n",
       "  </tbody>\n",
       "</table>\n",
       "<p>1536 rows × 21 columns</p>\n",
       "</div>"
      ]
     },
     "execution_count": 34,
     "metadata": {},
     "output_type": "execute_result"
    }
   ],
   "execution_count": 34
  },
  {
   "metadata": {},
   "cell_type": "markdown",
   "source": [
    "## Derived features and types\n",
    "\n",
    "Type normalization:\n",
    "- Integers: ids, positions, counts.\n",
    "- Floats:   times, temperature.\n",
    "- Booleans: control flags, status flags.\n",
    "\n",
    "Derived:\n",
    "- `gain_on_start = grid_position - position`.\n",
    "- `had_pit = pit_stop_count > 0`."
   ],
   "id": "49bcfe35e9b349db"
  },
  {
   "metadata": {
    "ExecuteTime": {
     "end_time": "2025-09-24T18:52:14.178220Z",
     "start_time": "2025-09-24T18:52:14.164972Z"
    }
   },
   "cell_type": "code",
   "source": [
    "int_cols = [c for c in [\"year\", \"meeting_key\", \"session_key\", \"driver_number\",\n",
    "                        \"grid_position\", \"position\", \"pit_stop_count\", \"first_pit_lap\", \"laps_completed\"]\n",
    "            if c in master.columns]\n",
    "for c in int_cols:\n",
    "    master[c] = pd.to_numeric(master[c], errors=\"coerce\").astype(\"Int64\")\n",
    "\n",
    "float_cols = [c for c in [\"points\", \"avg_pit_duration\", \"mean_air_temp\", \"mean_track_temp\",\n",
    "                          \"gap_to_leader\", \"duration\"]\n",
    "              if c in master.columns]\n",
    "for c in float_cols:\n",
    "    master[c] = pd.to_numeric(master[c], errors=\"coerce\")"
   ],
   "id": "89065d809aa3617a",
   "outputs": [],
   "execution_count": 35
  },
  {
   "metadata": {
    "ExecuteTime": {
     "end_time": "2025-09-24T18:52:14.218110Z",
     "start_time": "2025-09-24T18:52:14.214650Z"
    }
   },
   "cell_type": "code",
   "source": [
    "bool_cols = [c for c in [\"had_sc\", \"had_vsc\", \"had_sc_or_vsc\", \"rain_any\", \"dnf\", \"dns\", \"dsq\"] if c in master.columns]\n",
    "for c in bool_cols:\n",
    "    master[c] = master[c].astype(\"boolean\")"
   ],
   "id": "d5e421381f10f267",
   "outputs": [],
   "execution_count": 36
  },
  {
   "metadata": {
    "ExecuteTime": {
     "end_time": "2025-09-24T18:52:14.283201Z",
     "start_time": "2025-09-24T18:52:14.278701Z"
    }
   },
   "cell_type": "code",
   "source": [
    "if {\"grid_position\",\"position\"}.issubset(master.columns):\n",
    "    master[\"gain_on_start\"] = (master[\"grid_position\"] - master[\"position\"]).astype(\"Int64\")\n",
    "\n",
    "if \"pit_stop_count\" in master.columns:\n",
    "    master[\"had_pit\"] = master[\"pit_stop_count\"].fillna(0).gt(0).astype(\"boolean\")"
   ],
   "id": "eff9e05e8644d8ad",
   "outputs": [],
   "execution_count": 37
  },
  {
   "metadata": {
    "ExecuteTime": {
     "end_time": "2025-09-24T18:52:14.333062Z",
     "start_time": "2025-09-24T18:52:14.328236Z"
    }
   },
   "cell_type": "code",
   "source": "master.dtypes",
   "id": "f443899e2b7e6846",
   "outputs": [
    {
     "data": {
      "text/plain": [
       "session_key           Int64\n",
       "meeting_key           Int64\n",
       "year                  Int64\n",
       "driver_number         Int64\n",
       "position              Int64\n",
       "points              float64\n",
       "laps_completed        Int64\n",
       "dnf                 boolean\n",
       "dns                 boolean\n",
       "dsq                 boolean\n",
       "gap_to_leader       float64\n",
       "duration            float64\n",
       "pit_stop_count        Int64\n",
       "first_pit_lap         Int64\n",
       "avg_pit_duration    float64\n",
       "had_sc              boolean\n",
       "had_vsc             boolean\n",
       "had_sc_or_vsc       boolean\n",
       "mean_air_temp       float64\n",
       "mean_track_temp     float64\n",
       "rain_any            boolean\n",
       "had_pit             boolean\n",
       "dtype: object"
      ]
     },
     "execution_count": 38,
     "metadata": {},
     "output_type": "execute_result"
    }
   ],
   "execution_count": 38
  },
  {
   "metadata": {},
   "cell_type": "markdown",
   "source": [
    "## Quality checks\n",
    "\n",
    "- Missingness report for core columns.\n",
    "- Uniqueness of `(session_key, driver_number)`.\n",
    "- Sanity check: correlation between `grid_position` and `position` (Spearman)."
   ],
   "id": "c18b19a2b3f811ca"
  },
  {
   "metadata": {
    "ExecuteTime": {
     "end_time": "2025-09-24T18:52:14.503341Z",
     "start_time": "2025-09-24T18:52:14.497638Z"
    }
   },
   "cell_type": "code",
   "source": [
    "cols = [c for c in [\"grid_position\", \"position\", \"points\", \"laps_completed\",\n",
    "                    \"pit_stop_count\", \"first_pit_lap\", \"avg_pit_duration\", \"gain_on_start\"]\n",
    "        if c in master.columns]\n",
    "missing = (master[cols].isna().mean().mul(100).round(1).sort_values(ascending = False)).to_frame(\"missing_%\")\n",
    "missing\n",
    "\n",
    "dup = master[[\"session_key\", \"driver_number\"]].duplicated().sum()\n",
    "print(\"duplicates (session_key, driver_number):\", dup)\n",
    "\n",
    "if {\"grid_position\", \"position\"}.issubset(master.columns):\n",
    "    print(master[[\"grid_position\", \"position\"]].dropna().corr(method = \"spearman\"))"
   ],
   "id": "c63ade3af77c3b53",
   "outputs": [
    {
     "name": "stdout",
     "output_type": "stream",
     "text": [
      "duplicates (session_key, driver_number): 0\n"
     ]
    }
   ],
   "execution_count": 39
  },
  {
   "metadata": {},
   "cell_type": "markdown",
   "source": [
    "## Export\n",
    "\n",
    "Save the master table for visualization and modeling:\n",
    "- `data/processed/race_driver_master.csv`\n",
    "- Optionally `parquet` if available."
   ],
   "id": "290d1bc0b8223a2a"
  },
  {
   "metadata": {
    "ExecuteTime": {
     "end_time": "2025-09-24T18:52:14.567768Z",
     "start_time": "2025-09-24T18:52:14.553981Z"
    }
   },
   "cell_type": "code",
   "source": [
    "OUT.mkdir(parents = True, exist_ok = True)\n",
    "master.to_csv(OUT / \"race_driver_master.csv\", index = False)\n",
    "\n",
    "master.shape"
   ],
   "id": "4e57813ba2308472",
   "outputs": [
    {
     "data": {
      "text/plain": [
       "(1536, 22)"
      ]
     },
     "execution_count": 40,
     "metadata": {},
     "output_type": "execute_result"
    }
   ],
   "execution_count": 40
  }
 ],
 "metadata": {
  "kernelspec": {
   "display_name": "Python 3",
   "language": "python",
   "name": "python3"
  },
  "language_info": {
   "codemirror_mode": {
    "name": "ipython",
    "version": 2
   },
   "file_extension": ".py",
   "mimetype": "text/x-python",
   "name": "python",
   "nbconvert_exporter": "python",
   "pygments_lexer": "ipython2",
   "version": "2.7.6"
  }
 },
 "nbformat": 4,
 "nbformat_minor": 5
}
