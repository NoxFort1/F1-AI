{
 "cells": [
  {
   "metadata": {},
   "cell_type": "markdown",
   "source": [
    "# F1 Strategy - Notebook 01: Exploratory Data Analysis\n",
    "\n",
    "## Objectives\n",
    "- Verify integrity of OpenF1 aggregates produced by `get_data.py`.\n",
    "- Build a clean race- and driver-race-level snapshot for 2023-2024.\n",
    "- Define modeling targets for strategy prediction (pit count, first pit lap, compound sequence).\n",
    "- Identify data gaps to exclude or impute.\n",
    "\n",
    "## Inputs (from `data/openf1_full/`)\n",
    "- `sessions_all.csv`\n",
    "- `stints_all.csv`\n",
    "- `pit_all.csv`\n",
    "- `weather_all.csv`\n",
    "- `starting_grid_all.csv`\n",
    "- `session_result_all.csv`\n",
    "- `race_control_all.csv`\n",
    "- `meetings_all.csv`\n",
    "\n",
    "## Sanity checks\n",
    "- Row counts by season and by session type.\n",
    "- Uniqueness: `session_key × driver_number × stint_number`.\n",
    "- Consistency: sum of stint lengths ≈ laps completed for finishers.\n",
    "- Pit-stint coherence: number of pit entries ≈ compound changes.\n",
    "- Weather coverage: timestamps span the race window.\n",
    "- Missingness matrix per table and per season.\n",
    "\n",
    "## Core EDA questions\n",
    "- Distribution of pit counts per race and per season.\n",
    "- Stint length by compound and by circuit.\n",
    "- First-pit lap vs. starting position buckets.\n",
    "- SC/VSC frequency by circuit and its relation to pit timing.\n",
    "- Track temperature vs. stint length for each compound.\n",
    "- Outliers: extreme pit durations, micro stints, irregular weather segments.\n",
    "\n",
    "## Temporary data models (in-memory)\n",
    "- **races_master**: one row per race with date, circuit hint, SC/VSC, weather summery.\n",
    "- **driver_race**: one row per driver-race with targets and covariates:\n",
    "    - Targets: `pit_count`, `first_pit_lap`, `compound_seq` (e.g. S-M-H).\n",
    "    - Covariates: grid_position, finish status, SC/VSC exposure, simple weather summary.\n",
    "\n",
    "## Visuals (preview plan)\n",
    "- Bar: plt count distributions per race.\n",
    "- Box: stint length by compound.\n",
    "- Hist: first pit-lap.\n",
    "- Line: track temperature over race time with vertical lines at SC and pit windows.\n",
    "- Heatmap: compound usage across grid for a selected race.\n",
    "\n",
    "## Outputs\n",
    "- Short EDA conclusions and data caveats.\n",
    "- Final target definitions for Notebook 02 (feature engineering)\n",
    "- List of sessions with incomplete data to exclude or impute\n",
    "\n",
    "## Next\n",
    "- Notebook 02: feature engineering and target creation.\n",
    "- Notebook 03: baseline models and calibrations.\n",
    "- Notebook 04: error analysis per circuit and weather conditions."
   ],
   "id": "f17e2404ca02781b"
  }
 ],
 "metadata": {
  "kernelspec": {
   "display_name": "Python 3",
   "language": "python",
   "name": "python3"
  },
  "language_info": {
   "codemirror_mode": {
    "name": "ipython",
    "version": 2
   },
   "file_extension": ".py",
   "mimetype": "text/x-python",
   "name": "python",
   "nbconvert_exporter": "python",
   "pygments_lexer": "ipython2",
   "version": "2.7.6"
  }
 },
 "nbformat": 4,
 "nbformat_minor": 5
}
